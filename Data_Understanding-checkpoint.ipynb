{
 "cells": [
  {
   "cell_type": "markdown",
   "id": "4004f8cf-79c7-4fb9-8c07-ca1c4c6fdc60",
   "metadata": {
    "tags": []
   },
   "source": [
    "<h1> Data Undestanding </h1>"
   ]
  },
  {
   "cell_type": "markdown",
   "id": "f81f4ccf-fcdc-41b8-8264-219426e2b9d6",
   "metadata": {
    "tags": []
   },
   "source": [
    "<h2>Import packages</h2>"
   ]
  },
  {
   "cell_type": "code",
   "execution_count": 1,
   "id": "2233e8c3-1058-45c8-8439-736bdb1df9b2",
   "metadata": {},
   "outputs": [],
   "source": [
    "#Bibliothek einbinden\n",
    "import pandas as pd\n",
    "import csv\n",
    "import matplotlib.pyplot as plt\n",
    "import seaborn as sns\n",
    "import warnings\n",
    "import numpy as np\n",
    "import folium\n",
    "from folium.plugins import HeatMap\n",
    "pd.set_option('display.max_rows', 10)\n",
    "pd.set_option('display.max_columns', 10)\n",
    "warnings.filterwarnings('ignore')\n",
    "%matplotlib inline"
   ]
  },
  {
   "cell_type": "markdown",
   "id": "8d968743-b3b4-4506-bf2f-aa649bfd1046",
   "metadata": {
    "tags": []
   },
   "source": [
    "<h2>Import and join datasets</h2>"
   ]
  },
  {
   "cell_type": "code",
   "execution_count": null,
   "id": "6e5976b0",
   "metadata": {
    "tags": []
   },
   "outputs": [],
   "source": [
    "accidents = pd.read_csv(r\"..\\02_Dataset\\Accidents0515.csv\", decimal=\".\", delimiter = \",\", low_memory=False)"
   ]
  },
  {
   "cell_type": "code",
   "execution_count": null,
   "id": "6286f6b6-2cc1-477e-860c-605b4c8df889",
   "metadata": {
    "tags": []
   },
   "outputs": [],
   "source": [
    "#gdf = gpd.read_file(r\"..\\02_Dataset\\Areas.shp\")\n",
    "#vehicles = pd.read_csv(r\"..\\02_Dataset\\Vehicles0515.csv\", delimiter = \",\", error_bad_lines=False, warn_bad_lines=False)\n",
    "#accidents.drop_duplicates(inplace = True)\n",
    "#vehicles.drop_duplicates(inplace = True)\n",
    "#accidentsAndVehicles = accidents.merge(vehicles, how='inner', on=\"Accident_Index\")\n",
    "#accidentsVehiclesCasualties = pd.merge(accidentsAndVehicles, casualties, how='inner', left_on=[\"Accident_Index\",\"Vehicle_Reference\"], right_on=[\"Accident_Index\",\"Vehicle_Reference\"])\n",
    "#traffic = pd.read_csv(r\"..\\02_Dataset\\ukTrafficAADF.csv\", decimal=\".\", delimiter = \",\")\n",
    "#accidentsTraffic = pd.merge(accidents, traffic, left_on=['Location_Northing_OSGR', 'Location_Easting_OSGR'], right_on=['Northing','Easting'], how='left')\n",
    "#casualties=pd.read_csv(r\"..\\02_Dataset\\Casualties0515.csv\", error_bad_lines=False,warn_bad_lines=False)"
   ]
  },
  {
   "cell_type": "markdown",
   "id": "70b1e898-211a-40e8-bbec-50ebfeb9f3dd",
   "metadata": {
    "jupyter": {
     "outputs_hidden": true
    },
    "tags": []
   },
   "source": [
    "<h2>Data Exploration</h2>"
   ]
  },
  {
   "cell_type": "markdown",
   "id": "4942a296-630a-4a35-993a-47eb77f0908a",
   "metadata": {
    "tags": []
   },
   "source": [
    "<h3>Shape of data</h3>"
   ]
  },
  {
   "cell_type": "code",
   "execution_count": null,
   "id": "84bd3a98-f3e1-43ec-80ea-2375e1b60284",
   "metadata": {
    "tags": []
   },
   "outputs": [],
   "source": [
    "print(\"Accident dataset rows: {}\".format(accidents.shape[0]))\n",
    "print(\"Accident dataset columns: {}\".format(accidents.shape[1]))\n",
    "#print(\"Traffic dataset rows: {}\".format(traffic.shape[0]))\n",
    "#print(\"Traffic dataset columns: {}\".format(traffic.shape[1]))\n",
    "#print(\"Accident&Traffic dataset rows: {}\".format(accidentsTraffic.shape[0]))\n",
    "#print(\"Accident&Traffic dataset columns: {}\".format(accidentsTraffic.shape[1]))\n",
    "print(\"Accident duplicates (row): \"+str(accidents.duplicated().sum()))\n",
    "#print(\"Vehicles duplicates (row): \"+str(vehicles.duplicated().sum()))\n",
    "#print(\"Accident&Traffic duplicates (row): \"+str(accidentsTraffic.duplicated().sum()))\n",
    "#print(\"accidentsVehiclesCasualties dataset rows: {}\".format(accidentsVehiclesCasualties.shape[0]))\n",
    "#print(\"accidentsVehiclesCasualties dataset columns: {}\".format(accidentsVehiclesCasualties.shape[1]))\n",
    "#print(\"Casualties dataset rows: {}\".format(casualties.shape[0]))\n",
    "#print(\"Casualties dataset columns: {}\".format(casualties.shape[1]))#print(\"Casualties duplicates (row): \"+str(casualties.duplicated().sum()))\n",
    "#print(\"accidentsVehiclesCasualties duplicates (row): \"+str(accidentsVehiclesCasualties.duplicated().sum()))"
   ]
  },
  {
   "cell_type": "markdown",
   "id": "2a3d59ac-38cb-46e8-bcc4-1cdd68bd9e8f",
   "metadata": {
    "tags": []
   },
   "source": [
    "<h3>Unique values</h3>"
   ]
  },
  {
   "cell_type": "code",
   "execution_count": null,
   "id": "0755f456-55f8-4f70-8c1b-2890f06944fb",
   "metadata": {
    "tags": []
   },
   "outputs": [],
   "source": [
    "for i in accidents:\n",
    "    print (accidents[i].name+\":\")\n",
    "    print (accidents[i].sort_values().unique())\n",
    "    print (\"\\n\")"
   ]
  },
  {
   "cell_type": "markdown",
   "id": "8dc3a6f9-a6a4-4ae9-9e82-bec09fbb28dc",
   "metadata": {
    "tags": []
   },
   "source": [
    "<h3>Analyzing missing data</h3>\n"
   ]
  },
  {
   "cell_type": "code",
   "execution_count": null,
   "id": "a0b64b09-b1c5-454b-9cc8-2a930dc67763",
   "metadata": {
    "tags": []
   },
   "outputs": [],
   "source": [
    "percent_missing = accidents.isnull().sum() * 100 / len(accidents)\n",
    "missing_value = pd.DataFrame(data=percent_missing.values, index=percent_missing.index)\n",
    "missing_value.columns = [\"Missing Value %\"]\n",
    "print(missing_value)\n",
    "#percent_missing = accidentsTraffic.isnull().sum() * 100 / len(accidentsTraffic)\n",
    "#missing_value = pd.DataFrame(data=percent_missing.values, index=percent_missing.index)\n",
    "#missing_value.columns = [\"Missing Value %\"]\n",
    "#print(missing_value)\n",
    "#percent_missing = casualties.isnull().sum() * 100 / len(casualties)\n",
    "#missing_value = pd.DataFrame(data=percent_missing.values, index=percent_missing.index)\n",
    "#missing_value.columns = [\"Missing Value %\"]\n",
    "#print(missing_value)\n",
    "#percent_missing = accidentsAndVehicles.isnull().sum() * 100 / len(accidentsAndVehicles)\n",
    "#missing_value = pd.DataFrame(data=percent_missing.values, index=percent_missing.index)\n",
    "#missing_value.columns = [\"Missing Value %\"]\n",
    "#print(missing_value)"
   ]
  },
  {
   "cell_type": "code",
   "execution_count": null,
   "id": "6fa9dde9-e18e-48e2-a118-98a2fc6ae6d5",
   "metadata": {
    "tags": []
   },
   "outputs": [],
   "source": []
  },
  {
   "cell_type": "markdown",
   "id": "a59710ed-9c21-4d0c-812c-5dc4b6f4b4c8",
   "metadata": {
    "tags": []
   },
   "source": [
    "Data types"
   ]
  },
  {
   "cell_type": "code",
   "execution_count": null,
   "id": "80974d1b-f92f-4795-a6cb-20828a0551a2",
   "metadata": {
    "tags": []
   },
   "outputs": [],
   "source": [
    "accidents.dtypes"
   ]
  },
  {
   "cell_type": "markdown",
   "id": "12d7d294-e1dd-4221-8f9c-36e6d1582190",
   "metadata": {
    "tags": []
   },
   "source": [
    "<h3>Outliers</h3>"
   ]
  },
  {
   "cell_type": "code",
   "execution_count": null,
   "id": "8248f37f-7fc5-4841-b266-1f2761d60474",
   "metadata": {
    "tags": []
   },
   "outputs": [],
   "source": [
    "# check outliers:\n",
    "# - if mean significantly below median, we have outliers on the left of chart.\n",
    "# - if mean significantly above median, we have outliers on the right of chart.\n",
    "accidents.describe().loc[[\"mean\", \"50%\"], :]"
   ]
  },
  {
   "cell_type": "markdown",
   "id": "227ca4e0-55bb-44f2-9918-13d1a1d06699",
   "metadata": {
    "tags": []
   },
   "source": [
    "<h3>Seasonality of accidents</h3>"
   ]
  },
  {
   "cell_type": "code",
   "execution_count": null,
   "id": "6bec790b-3c06-4e7d-848c-ccffb954615e",
   "metadata": {
    "tags": []
   },
   "outputs": [],
   "source": [
    "seasonality = pd.DataFrame()\n"
   ]
  },
  {
   "cell_type": "code",
   "execution_count": null,
   "id": "d16f7ead-61ca-4461-bb14-9947161f3f91",
   "metadata": {
    "tags": []
   },
   "outputs": [],
   "source": [
    "seasonality[\"Year\"] = accidents[\"Date\"].str.slice(-4,)\n",
    "plt.figure(figsize = (16,10))\n",
    "ax = sns.countplot(\"Year\",data = seasonality, palette = \"YlGnBu\", order = ['2005', '2006', '2007', '2008', '2009', '2010', '2011', '2012',\n",
    "       '2013', '2014', '2015'])\n",
    "plt.xlabel(\"Year\", fontsize = 20)\n",
    "plt.ylabel(\"Frequency\", fontsize = 20)\n",
    "plt.show()\n",
    "print(\"\\n\")\n",
    "\n",
    "seasonality[\"Month\"] = accidents[\"Date\"].str.slice(-7,-5)\n",
    "plt.figure(figsize = (16,10))\n",
    "ax = sns.countplot(\"Month\",data = seasonality, palette = \"YlGnBu\")\n",
    "plt.xlabel(\"Month\", fontsize = 20)\n",
    "plt.ylabel(\"Frequency\", fontsize = 20)\n",
    "plt.show()\n",
    "print(\"\\n\")\n",
    "\n",
    "plt.figure(figsize = (16,10))\n",
    "ax = sns.countplot(\"Day_of_Week\",data=accidents, palette = \"YlGnBu\")\n",
    "ax.set_xticklabels([\"Sunday\", \"Monday\", \"Tuesday\", \"Wednesday\", \"Thursday\", \"Friday\", \"Saturday\"])\n",
    "plt.xlabel(\"Day of Week\", fontsize = 20)\n",
    "plt.ylabel(\"Frequency\", fontsize = 20)\n",
    "plt.show()\n",
    "print(\"\\n\")\n",
    "\n",
    "\n",
    "plt.figure(figsize = (16,10))\n",
    "seasonality[\"Time\"] = accidents[\"Time\"].str.slice(0,2)\n",
    "order = ['00','01','02','03','04','05','06','07','08','09','10','11','12','13','14','15','16','17','18','19','20','21','22','23']\n",
    "ax = sns.countplot(\"Time\",data = seasonality, palette = \"YlGnBu\", order = order)\n",
    "plt.xlabel(\"Time of day (24h)\", fontsize = 20)\n",
    "plt.ylabel(\"Frequency\", fontsize = 20)\n",
    "plt.show()\n"
   ]
  },
  {
   "cell_type": "markdown",
   "id": "43343144-66dc-45b6-9321-1a3b36958ba0",
   "metadata": {
    "tags": []
   },
   "source": [
    "<h3>Potential causes of accidents</h3>"
   ]
  },
  {
   "cell_type": "code",
   "execution_count": null,
   "id": "47d5fc97-2900-4a92-b4ea-4ede5df8d9df",
   "metadata": {
    "tags": []
   },
   "outputs": [],
   "source": [
    "cause = accidents[['Speed_limit','Pedestrian_Crossing-Human_Control','Light_Conditions',\n",
    "                   'Road_Surface_Conditions']]\n",
    "cause2 = accidents[['Weather_Conditions','Pedestrian_Crossing-Physical_Facilities','Special_Conditions_at_Site','Carriageway_Hazards']]\n",
    "\n",
    "cause[\"Pedestrian_Crossing-Human_Control\"] = cause[\"Pedestrian_Crossing-Human_Control\"].map(lambda x: {0:\"None within 50 metres\",\n",
    "                                                                                                       1:\"Control by school crossing patrol\",\n",
    "                                                                                                       2:\"Control by other authorised person\",\n",
    "                                                                                                       -1:\"Data missing\"}\n",
    "                                                                                            .get(x,x))\n",
    "cause2[\"Pedestrian_Crossing-Physical_Facilities\"] = cause2[\"Pedestrian_Crossing-Physical_Facilities\"].map(lambda x: {0:\"No physical crossing facilities within 50 metres\",\n",
    "                                                                                                                   1:\"Zebra\",\n",
    "                                                                                                                   4:\"Pelican, puffin, toucan or similar non-junction pedestrian light crossing\",\n",
    "                                                                                                                   5:\"Pedestrian phase at traffic signal junction\",\n",
    "                                                                                                                   7:\"Footbridge or subway\",\n",
    "                                                                                                                   8:\"Central refuge\",\n",
    "                                                                                                                   -1:\"Data missing\"}\n",
    "                                                                                                        .get(x,x))                                                                            \n",
    "\n",
    "cause[\"Light_Conditions\"] = cause[\"Light_Conditions\"].map(lambda x: {1:\"Daylight\", 4:\"Darkness - lights lit\", 5:\"Darkness - lights unlit\",\n",
    "                                                                     6:\"Darkness - no lighting\", 7:\"Darkness - lighting unknown\",\n",
    "                                                                     -1:\"Data missing\"}\n",
    "                                                          .get(x,x))\n",
    "\n",
    "cause2[\"Weather_Conditions\"] = cause2[\"Weather_Conditions\"].map(lambda x: {1:\"Fine no high winds\", 2:\"Raining no high winds\", 3:\"Snowing no high winds\",\n",
    "                                                                         4:\"Fine + high winds\", 5:\"Raining + high winds\", 6:\"Snowing + high winds\",\n",
    "                                                                         7:\"Fog or mist\", 8:\"Other\", 9:\"Unknown\", -1:\"Data missing\"}\n",
    "                                                              .get(x,x))\n",
    "\n",
    "cause[\"Road_Surface_Conditions\"] = cause[\"Road_Surface_Conditions\"].map(lambda x: {1:\"Dry\", 2:\"Wet or damp\", 3:\"Snow\", 4:\"Frost or ice\", \n",
    "                                                                                   5:\"Flood over 3cm. deep\", 6:\"Oil or diesel\", 7:\"Mud\",\n",
    "                                                                                   -1:\"Data missing\"}\n",
    "                                                                        .get(x,x))\n",
    "\n",
    "cause2[\"Special_Conditions_at_Site\"] = cause2[\"Special_Conditions_at_Site\"].map(lambda x: {0:\"None\", 1:\"Auto traffic signal - out\",\n",
    "                                                                                         2:\"Auto signal part defective\",\n",
    "                                                                                         3:\"Road sign or marking defective or obscured\",\n",
    "                                                                                         4:\"Roadworks\", 5:\"Road surface defective\", 6:\"Oil or diesel\",\n",
    "                                                                                         7:\"Mud\", -1:\"Data missing\"}\n",
    "                                                                              .get(x,x))\n",
    "\n",
    "cause2[\"Carriageway_Hazards\"] = cause2[\"Carriageway_Hazards\"].map(lambda x: {0:\"None\",\n",
    "                                                                           1:\"Vehicle load on road\", 2:\"Other object on road\", 3:\"Previous accident\",\n",
    "                                                                           4:\"Dog on road\", 5:\"Other animal on road\", \n",
    "                                                                           6:\"Pedestrian in carriageway - not injured\",\n",
    "                                                                           7:\"Any animal in carriageway (except ridden horse)\",\n",
    "                                                                           -1:\"Data missing\"}\n",
    "                                                                .get(x,x))"
   ]
  },
  {
   "cell_type": "code",
   "execution_count": null,
   "id": "f1a23878-1bed-47fc-8ac0-582791b3c628",
   "metadata": {
    "tags": []
   },
   "outputs": [],
   "source": [
    "for i in cause:\n",
    "    plt.figure(figsize = (16,10))\n",
    "    ax = sns.countplot(i,data = cause, palette = \"YlGnBu\")    \n",
    "    plt.xlabel(i, fontsize = 20)\n",
    "    plt.ylabel(\"Frequency\", fontsize = 20)\n",
    "    plt.show()\n",
    "    print(\"\\n\")\n",
    "for i in cause2:\n",
    "    plt.figure(figsize = (16,10))\n",
    "    ax = sns.countplot(i,data = cause2, palette = \"YlGnBu\")\n",
    "    plt.xticks(rotation = 45, ha = 'right')\n",
    "    plt.xlabel(i, fontsize = 20)\n",
    "    plt.ylabel(\"Frequency\", fontsize = 20)\n",
    "    plt.show()\n",
    "    print(\"\\n\")"
   ]
  },
  {
   "cell_type": "markdown",
   "id": "5d24a918-d41a-4d3c-869a-1589a3d5e798",
   "metadata": {
    "tags": []
   },
   "source": [
    "Road_Type, Urban Rural, Age of Drivers"
   ]
  },
  {
   "cell_type": "markdown",
   "id": "559d0acb-db17-4ae9-98c8-3d75b4e9a10f",
   "metadata": {
    "tags": []
   },
   "source": [
    "<h3>Areas and most dangerous road</h3>"
   ]
  },
  {
   "cell_type": "code",
   "execution_count": null,
   "id": "1b0b9df2-cafe-4448-b19d-992551788e0c",
   "metadata": {
    "tags": []
   },
   "outputs": [],
   "source": [
    "print(accidents.groupby(['Location_Easting_OSGR','Location_Northing_OSGR']).size().idxmax())\n",
    "#In Lat and Long it would be 52.949742 , -0.97762301\n",
    "lat = 52.949742\n",
    "lon = -0.97762301\n",
    "latlon =\"52.949742, -0.97762301\""
   ]
  },
  {
   "cell_type": "code",
   "execution_count": null,
   "id": "63624d09-f6b7-4216-b28d-f2644d898861",
   "metadata": {
    "tags": []
   },
   "outputs": [],
   "source": [
    "#getadress\n",
    "import geopy\n",
    "from geopy.geocoders import Nominatim\n",
    "locator = Nominatim(user_agent=\"myGeocoder\")\n",
    "loc = locator.reverse(latlon)\n"
   ]
  },
  {
   "cell_type": "code",
   "execution_count": null,
   "id": "2b274235-591a-4443-9e61-8333d19a62cf",
   "metadata": {
    "tags": []
   },
   "outputs": [],
   "source": [
    "from folium import plugins\n",
    "from folium.plugins import MarkerCluster\n",
    "#new dataframe\n",
    "dfmap = accidents[[\"Latitude\", \"Longitude\"]]\n",
    "dfmap[\"Year\"] = accidents[\"Date\"].str.slice(-4,)\n",
    "\n",
    "#delete (empty) rows in Longitude and Latitude\n",
    "dfmap = dfmap.loc[(dfmap[\"Year\"] > \"2005\")]\n",
    "print(dfmap[\"Year\"].sort_values().unique())\n",
    "dfmap.dropna(subset = [\"Latitude\", \"Longitude\"], inplace=True)\n",
    "dfmap = dfmap[[\"Latitude\", \"Longitude\"]]\n",
    "#most dangerous roads coordinate\n",
    "m = folium.Map(location=[54.0, -3.20], zoom_start=5) \n",
    "#Add marker and Heatmap\n",
    "folium.Marker([lat,lon],\n",
    "              popup=loc.address,\n",
    "              icon=folium.Icon(color='red')\n",
    "             ).add_to(m)\n",
    "marker_cluster = MarkerCluster().add_to(m)\n",
    "\n",
    "#for index, row in dfmap.iterrows():\n",
    " #   folium.Marker(row[\"Latitude\"], row[\"Longitude\"]).add_to(marker_cluster)\n",
    "#dfmap.apply(lambda row:folium.CircleMarker(location=[row[\"Latitude\"], row[\"Longitude\"]], radius=10).add_to(m), axis=1)\n",
    "HeatMap(list(zip(dfmap.Latitude.values, dfmap.Longitude.values)), min_opacity = 0.2, radius = 17, blur = 15, max_zoom = 1).add_to(m)\n",
    "#m.add_child(plugins.HeatMap(dfmap, radius=15))\n",
    "m\n"
   ]
  },
  {
   "cell_type": "code",
   "execution_count": null,
   "id": "bdbfd8da-8685-4f66-8e9b-8b66c27e25b8",
   "metadata": {
    "tags": []
   },
   "outputs": [],
   "source": []
  },
  {
   "cell_type": "code",
   "execution_count": null,
   "id": "50dd6876-954d-49f9-a0e5-3b1fb63bb026",
   "metadata": {
    "tags": []
   },
   "outputs": [],
   "source": []
  },
  {
   "cell_type": "code",
   "execution_count": null,
   "id": "06f229c7-42c9-47db-a8dc-2101b26de59a",
   "metadata": {
    "tags": []
   },
   "outputs": [],
   "source": [
    "\n",
    "#for index, row in dfmap.iterrows():\n",
    " #   folium.CircleMarker([row['Latitude'], row['Longitude']],\n",
    "  #                      radius=15,\n",
    "   #                     fill_color=\"#3db7e4\", # divvy color\n",
    "    #                   ).add_to(m)\n",
    "#m = folium.Map(location=[lat, lon]) \n",
    "\n",
    "#m.add_children(plugins.HeatMap(dfmap[[\"Longitude\", \"Latitude\"]], radius=15))\n",
    "# Display the map\n",
    "#m"
   ]
  },
  {
   "cell_type": "code",
   "execution_count": null,
   "id": "dad138eb-834c-4cff-bfbe-4a167f5a7a09",
   "metadata": {
    "tags": []
   },
   "outputs": [],
   "source": []
  },
  {
   "cell_type": "code",
   "execution_count": null,
   "id": "38d73da3-d919-4447-bbfc-0acca2ae7f79",
   "metadata": {
    "tags": []
   },
   "outputs": [],
   "source": []
  },
  {
   "cell_type": "code",
   "execution_count": null,
   "id": "10e4af64-cc2a-437d-8327-c7ac3ec87c04",
   "metadata": {
    "tags": []
   },
   "outputs": [],
   "source": []
  },
  {
   "cell_type": "code",
   "execution_count": null,
   "id": "8e10e1a0-f700-488e-8588-729221f7deb1",
   "metadata": {
    "tags": []
   },
   "outputs": [],
   "source": []
  },
  {
   "cell_type": "markdown",
   "id": "a758a7d2-ad85-434f-a369-188b50480607",
   "metadata": {
    "tags": []
   },
   "source": [
    "<h3>Correlation of variables</h3>"
   ]
  },
  {
   "cell_type": "code",
   "execution_count": null,
   "id": "3252712a-412a-48ea-95f1-00e3c4591537",
   "metadata": {
    "tags": []
   },
   "outputs": [],
   "source": [
    "#corr =  accidentsAndVehicles.corr()\n",
    "#plt.subplots(figsize=(20,9))\n",
    "#sns.heatmap(corr)"
   ]
  },
  {
   "cell_type": "code",
   "execution_count": null,
   "id": "0879e897-8a7a-4c5d-b67a-6286c16bf86b",
   "metadata": {
    "tags": []
   },
   "outputs": [],
   "source": [
    "plt.figure(figsize = (50,50))\n",
    "sns.set(font_scale=2)\n",
    "sns.heatmap(data = accidents.corr(),annot = True, cmap = \"YlGnBu\")\n",
    "plt.show()"
   ]
  },
  {
   "cell_type": "code",
   "execution_count": null,
   "id": "91b8c4a0-1f4b-47c6-be51-cf5295d68b8d",
   "metadata": {
    "tags": []
   },
   "outputs": [],
   "source": [
    "plt.figure(figsize=(15,7))\n",
    "sns.set(font_scale=1)\n",
    "ax = sns.countplot('Road_Type',hue='Accident_Severity',data=accidents, \n",
    "                   order = accidents[\"Road_Type\"].value_counts().index, palette = \"YlGnBu\")\n",
    "ax.set_xticklabels(['Single carriageway','Dual_carriageway','Roundabout',\n",
    "                    'One_way_street ',\n",
    "                    'Slip road','Unknown'])\n",
    "plt.legend(['Fatal','Serious','Slight'])\n",
    "plt.ylabel(\"Frequency\", fontsize = 14)\n",
    "plt.show()\n"
   ]
  },
  {
   "cell_type": "code",
   "execution_count": null,
   "id": "d287552d-9abb-404d-b116-4c3d613f5b93",
   "metadata": {
    "tags": []
   },
   "outputs": [],
   "source": [
    "plt.figure(figsize=(15,7))\n",
    "ax=sns.countplot('Light_Conditions',data=accidents,\n",
    "                 order = accidents[\"Light_Conditions\"].value_counts().index,\n",
    "                 palette = \"YlGnBu\") \n",
    "ax.set_xticklabels(['Daylight','Darkness - lights lit',\n",
    "                    'Darkness - no lighting',\n",
    "                    'Darkness - lighting unknown',\n",
    "                    'Darkness - lights unlit'])\n",
    "plt.title('ACCIDENT RATES BASED ON LIGHT CONDITIONS',fontsize=15)\n",
    "plt.ylabel(\"Frequency\", fontsize = 14)\n",
    "plt.show()\n"
   ]
  },
  {
   "cell_type": "code",
   "execution_count": null,
   "id": "3ab69763-be58-4daa-8c0e-a7c36c480f61",
   "metadata": {
    "tags": []
   },
   "outputs": [],
   "source": [
    "#plt.figure(figsize=(50,15))\n",
    "#sns.countplot('Age_of_Casualty',data=casualities, palette = \"YlGnBu\")\n",
    "#plt.title('CASUALITY DISTRIBUTION BASED ON AGE', fontsize=15)\n",
    "#plt.ylabel(\"frequency\", fontsize = 12)\n",
    "#plt.show()"
   ]
  },
  {
   "cell_type": "markdown",
   "id": "57593f57-7ba2-47b5-9c61-2efbd4f0c2ff",
   "metadata": {
    "tags": []
   },
   "source": [
    "<h3>Information about location</h3>"
   ]
  },
  {
   "cell_type": "code",
   "execution_count": null,
   "id": "dd2c3790-93b9-4c39-9365-5c0c32a74470",
   "metadata": {
    "tags": []
   },
   "outputs": [],
   "source": []
  },
  {
   "cell_type": "code",
   "execution_count": null,
   "id": "0ac34f7f-2148-457b-bb75-4fcbebf11e85",
   "metadata": {
    "tags": []
   },
   "outputs": [],
   "source": []
  },
  {
   "cell_type": "code",
   "execution_count": null,
   "id": "f231f5f8-2900-4912-9387-0976f987450d",
   "metadata": {
    "tags": []
   },
   "outputs": [],
   "source": []
  },
  {
   "cell_type": "code",
   "execution_count": null,
   "id": "eaf3ed04-2f18-4ebb-a455-dfdd8e900802",
   "metadata": {
    "tags": []
   },
   "outputs": [],
   "source": []
  },
  {
   "cell_type": "code",
   "execution_count": null,
   "id": "2da068ec-58c5-48a4-abb5-b951e59eafe2",
   "metadata": {
    "tags": []
   },
   "outputs": [],
   "source": []
  },
  {
   "cell_type": "code",
   "execution_count": null,
   "id": "8819f0c7-f457-4bf3-9d97-7f01005e1185",
   "metadata": {
    "tags": []
   },
   "outputs": [],
   "source": []
  },
  {
   "cell_type": "code",
   "execution_count": null,
   "id": "ff89aa89-4984-4f60-8231-2af7b4045999",
   "metadata": {
    "tags": []
   },
   "outputs": [],
   "source": []
  },
  {
   "cell_type": "code",
   "execution_count": null,
   "id": "d4bd3018-ea5a-4f37-a3b0-03eaf35f5bfc",
   "metadata": {
    "tags": []
   },
   "outputs": [],
   "source": [
    "#Häufigkeitstabelle\n",
    "for col in accidentsVehiclesCasualties:\n",
    "    tab_ds = pd.value_counts(accidentsVehiclesCasualties[col]).to_frame().reset_index()\n",
    "    tab_ds[\"Relative frequency\"] = (tab_ds[col]/tab_ds[col].sum())*100\n",
    "    tab_ds['cummulated'] = tab_ds['Relative frequency'].cumsum()\n",
    "    tab_ds.rename(columns={col:'Amount',\n",
    "                        'index':col\n",
    "                      }, \n",
    "              inplace=True)\n",
    "    print(tab_ds)"
   ]
  },
  {
   "cell_type": "code",
   "execution_count": null,
   "id": "3e342cbf-5f39-4204-b770-f14576280c51",
   "metadata": {
    "tags": []
   },
   "outputs": [],
   "source": [
    "#Erste Sichtung der Daten, fehlende Werte, Datentyp, Min, Max,\n",
    "#Median, Standardabweichung etc.\n",
    "#accidents.head()\n",
    "#df.info()\n",
    "#df.columns\n",
    "#df.median()\n",
    "#df.mode()\n",
    "#df.cumsum\n",
    "#df['Spalte'].std()\n",
    "#df.agg(['min', 'max','mean', 'std', 'var']) #Tabelle mit gewünschten Kenngrößen\n",
    "#df['Spalte'].quantile(0.25)\n",
    "#describe() zeigt nur numerische Werte; loc[...] wählt gewünschte Parameter aus\n",
    "#df.describe(include = 'all').loc[['count','unique','top','freq']]\n",
    "#Für alle Spalten die einzigartigen Ausprägungen sortiert ausgeben\n",
    "#for i in df:\n",
    " #   print (df[i].name+\":\")\n",
    "  #  print (df[i].sort_values().unique())\n",
    "   # print (\"\\n\")\n",
    "#df['Spalte'].std()\n",
    "#df.agg(['min', 'max','mean', 'std', 'var']) #Tabelle mit gewünschten Kenngrößen\n",
    "#df['Spalte'].quantile(0.25)\n",
    "#describe() zeigt nur numerische Werte; loc[...] wählt gewünschte Parameter aus"
   ]
  },
  {
   "cell_type": "markdown",
   "id": "50662266-d0ce-4d2e-9c03-3b008d8106d9",
   "metadata": {
    "tags": []
   },
   "source": [
    "<h1> Dataset for QlikSense </h1>"
   ]
  },
  {
   "cell_type": "code",
   "execution_count": null,
   "id": "698e7799-ea0f-4e92-bc42-fb7b8106267b",
   "metadata": {},
   "outputs": [],
   "source": [
    "#mapping\n",
    "accidentsAndVehicles[\"Accident_Severity\"] = accidentsAndVehicles[\"Accident_Severity\"].map(lambda x: {1: \"Fatal\",2:\"Serious\", 3:\"Slight\"}.get(x,x))"
   ]
  },
  {
   "cell_type": "code",
   "execution_count": null,
   "id": "dec703b4-7f1c-4c22-8263-ccf8ab360657",
   "metadata": {},
   "outputs": [],
   "source": [
    "accidentsAndVehicles[\"Accident_Severity\"].sort_values().unique()"
   ]
  },
  {
   "cell_type": "code",
   "execution_count": null,
   "id": "bfd7c763-3f0e-4ef9-b33d-afb3230d3f2f",
   "metadata": {
    "tags": []
   },
   "outputs": [],
   "source": [
    "dictdistrict = {\n",
    "1:\"Westminster\",\n",
    "2:\"Camden\",\n",
    "3:\"Islington\",\n",
    "4:\"Hackney\",\n",
    "5:\"Tower Hamlets\",\n",
    "6:\"Greenwich\",\n",
    "7:\"Lewisham\",\n",
    "8:\"Southwark\",\n",
    "9:\"Lambeth\",\n",
    "10:\"Wandsworth\",\n",
    "11:\"Hammersmith and Fulham\",\n",
    "12:\"Kensington and Chelsea\",\n",
    "13:\"Waltham Forest\",\n",
    "14:\"Redbridge\",\n",
    "15:\"Havering\",\n",
    "16:\"Barking and Dagenham\",\n",
    "17:\"Newham\",\n",
    "18:\"Bexley\",\n",
    "19:\"Bromley\",\n",
    "20:\"Croydon\",\n",
    "21:\"Sutton\",\n",
    "22:\"Merton\",\n",
    "23:\"Kingston upon Thames\",\n",
    "24:\"Richmond upon Thames\",\n",
    "25:\"Hounslow\",\n",
    "26:\"Hillingdon\",\n",
    "27:\"Ealing\",\n",
    "28:\"Brent\",\n",
    "29:\"Harrow\",\n",
    "30:\"Barnet\",\n",
    "31:\"Haringey\",\n",
    "32:\"Enfield\",\n",
    "33:\"Hertsmere\",\n",
    "38:\"Epsom and Ewell\",\n",
    "40:\"Spelthorne\",\n",
    "57:\"London Airport (Heathrow)\",\n",
    "60:\"Allerdale\",\n",
    "61:\"Barrow-in-Furness\",\n",
    "62:\"Carlisle\",\n",
    "63:\"Copeland\",\n",
    "64:\"Eden\",\n",
    "65:\"South Lakeland\",\n",
    "70:\"Blackburn with Darwen\",\n",
    "71:\"Blackpool\",\n",
    "72:\"Burnley\",\n",
    "73:\"Chorley\",\n",
    "74:\"Fylde\",\n",
    "75:\"Hyndburn\",\n",
    "76:\"Lancaster\",\n",
    "77:\"Pendle\",\n",
    "79:\"Preston\",\n",
    "80:\"Ribble Valley\",\n",
    "82:\"Rossendale\",\n",
    "83:\"South Ribble\",\n",
    "84:\"West Lancashire\",\n",
    "85:\"Wyre\",\n",
    "90:\"Knowsley\",\n",
    "91:\"Liverpool\",\n",
    "92:\"St. Helens\",\n",
    "93:\"Sefton\",\n",
    "95:\"Wirral\",\n",
    "100:\"Bolton\",\n",
    "101:\"Bury\",\n",
    "102:\"Manchester\",\n",
    "104:\"Oldham\",\n",
    "106:\"Rochdale\",\n",
    "107:\"Salford\",\n",
    "109:\"Stockport\",\n",
    "110:\"Tameside\",\n",
    "112:\"Trafford\",\n",
    "114:\"Wigan\",\n",
    "120:\"Chester\",\n",
    "121:\"Congleton\",\n",
    "122:\"Crewe and Nantwich\",\n",
    "123:\"Ellesmere Port and Neston\",\n",
    "124:\"Halton\",\n",
    "126:\"Macclesfield\",\n",
    "127:\"Vale Royal\",\n",
    "128:\"Warrington\",\n",
    "129:\"Cheshire East\",\n",
    "130:\"Cheshire West and Chester\",\n",
    "139:\"Northumberland\",\n",
    "140:\"Alnwick\",\n",
    "141:\"Berwick-upon-Tweed\",\n",
    "142:\"Blyth Valley\",\n",
    "143:\"Castle Morpeth\",\n",
    "144:\"Tynedale\",\n",
    "145:\"Wansbeck\",\n",
    "146:\"Gateshead\",\n",
    "147:\"Newcastle upon Tyne\",\n",
    "148:\"North Tyneside\",\n",
    "149:\"South Tyneside\",\n",
    "150:\"Sunderland\",\n",
    "160:\"Chester-le-Street\",\n",
    "161:\"Darlington\",\n",
    "162:\"Derwentside\",\n",
    "163:\"Durham\",\n",
    "164:\"Easington\",\n",
    "165:\"Sedgefield\",\n",
    "166:\"Teesdale\",\n",
    "168:\"Wear Valley\",\n",
    "169:\"County Durham\",\n",
    "180:\"Craven\",\n",
    "181:\"Hambleton\",\n",
    "182:\"Harrogate\",\n",
    "184:\"Richmondshire\",\n",
    "185:\"Ryedale\",\n",
    "186:\"Scarborough\",\n",
    "187:\"Selby\",\n",
    "189:\"York\",\n",
    "200:\"Bradford\",\n",
    "202:\"Calderdale\",\n",
    "203:\"Kirklees\",\n",
    "204:\"Leeds\",\n",
    "206:\"Wakefield\",\n",
    "210:\"Barnsley\",\n",
    "211:\"Doncaster\",\n",
    "213:\"Rotherham\",\n",
    "215:\"Sheffield\",\n",
    "228:\"Kingston upon Hull, City of\",\n",
    "231:\"East Riding of Yorkshire\",\n",
    "232:\"North Lincolnshire\",\n",
    "233:\"North East Lincolnshire\",\n",
    "240:\"Hartlepool\",\n",
    "241:\"Redcar and Cleveland\",\n",
    "243:\"Middlesbrough\",\n",
    "245:\"Stockton-on-Tees\",\n",
    "250:\"Cannock Chase\",\n",
    "251:\"East Staffordshire\",\n",
    "252:\"Lichfield\",\n",
    "253:\"Newcastle-under-Lyme\",\n",
    "254:\"South Staffordshire\",\n",
    "255:\"Stafford\",\n",
    "256:\"Staffordshire Moorlands\",\n",
    "257:\"Stoke-on-Trent\",\n",
    "258:\"Tamworth\",\n",
    "270:\"Bromsgrove\",\n",
    "273:\"Malvern Hills\",\n",
    "274:\"Redditch\",\n",
    "276:\"Worcester\",\n",
    "277:\"Wychavon\",\n",
    "278:\"Wyre Forest\",\n",
    "279:\"Bridgnorth\",\n",
    "280:\"North Shropshire\",\n",
    "281:\"Oswestry\",\n",
    "282:\"Shrewsbury and Atcham\",\n",
    "283:\"South Shropshire\",\n",
    "284:\"Telford and Wrekin\",\n",
    "285:\"Herefordshire, County of \",\n",
    "286:\"Shropshire\",\n",
    "290:\"North Warwickshire\",\n",
    "291:\"Nuneaton and Bedworth\",\n",
    "292:\"Rugby \",\n",
    "293:\"Stratford-upon-Avon\",\n",
    "294:\"Warwick\",\n",
    "300:\"Birmingham\",\n",
    "302:\"Coventry\",\n",
    "303:\"Dudley\",\n",
    "305:\"Sandwell\",\n",
    "306:\"Solihull\",\n",
    "307:\"Walsall\",\n",
    "309:\"Wolverhampton\",\n",
    "320:\"Amber Valley\",\n",
    "321:\"Bolsover\",\n",
    "322:\"Chesterfield\",\n",
    "323:\"Derby\",\n",
    "324:\"Erewash\",\n",
    "325:\"High Peak\",\n",
    "327:\"North East Derbyshire\",\n",
    "328:\"South Derbyshire\",\n",
    "329:\"Derbyshire Dales\",\n",
    "340:\"Ashfield\",\n",
    "341:\"Bassetlaw\",\n",
    "342:\"Broxtowe\",\n",
    "343:\"Gedling\",\n",
    "344:\"Mansfield\",\n",
    "345:\"Newark and Sherwood\",\n",
    "346:\"Nottingham\",\n",
    "347:\"Rushcliffe\",\n",
    "350:\"Boston\",\n",
    "351:\"East Lindsey\",\n",
    "352:\"Lincoln\",\n",
    "353:\"North Kesteven\",\n",
    "354:\"South Holland\",\n",
    "355:\"South Kesteven\",\n",
    "356:\"West Lindsey\",\n",
    "360:\"Blaby\",\n",
    "361:\"Hinckley and Bosworth\",\n",
    "362:\"Charnwood\",\n",
    "363:\"Harborough\",\n",
    "364:\"Leicester\",\n",
    "365:\"Melton\",\n",
    "366:\"North West Leicestershire\",\n",
    "367:\"Oadby and Wigston\",\n",
    "368:\"Rutland\",\n",
    "380:\"Corby\",\n",
    "381:\"Daventry\",\n",
    "382:\"East Northamptonshire\",\n",
    "383:\"Kettering\",\n",
    "384:\"Northampton\",\n",
    "385:\"South Northamptonshire\",\n",
    "386:\"Wellingborough\",\n",
    "390:\"Cambridge\",\n",
    "391:\"East Cambridgeshire\",\n",
    "392:\"Fenland\",\n",
    "393:\"Huntingdonshire\",\n",
    "394:\"Peterborough\",\n",
    "395:\"South Cambridgeshire\",\n",
    "400:\"Breckland\",\n",
    "401:\"Broadland\",\n",
    "402:\"Great Yarmouth\",\n",
    "404:\"Norwich\",\n",
    "405:\"North Norfolk\",\n",
    "406:\"South Norfolk\",\n",
    "407:\"King's Lynn and West Norfolk\",\n",
    "410:\"Babergh\",\n",
    "411:\"Forest Heath\",\n",
    "412:\"Ipswich\",\n",
    "413:\"Mid Suffolk\",\n",
    "414:\"St. Edmundsbury\",\n",
    "415:\"Suffolk Coastal\",\n",
    "416:\"Waveney\",\n",
    "420:\"Bedford\",\n",
    "421:\"Luton\",\n",
    "422:\"Mid Bedfordshire\",\n",
    "423:\"South Bedfordshire\",\n",
    "424:\"Central Bedfordshire\",\n",
    "430:\"Broxbourne\",\n",
    "431:\"Dacorum\",\n",
    "432:\"East Hertfordshire\",\n",
    "433:\"North Hertfordshire\",\n",
    "434:\"St. Albans\",\n",
    "435:\"Stevenage\",\n",
    "436:\"Three Rivers\",\n",
    "437:\"Watford\",\n",
    "438:\"Welwyn Hatfield\",\n",
    "450:\"Basildon\",\n",
    "451:\"Braintree\",\n",
    "452:\"Brentwood\",\n",
    "453:\"Castle Point\",\n",
    "454:\"Chelmsford\",\n",
    "455:\"Colchester\",\n",
    "456:\"Epping Forest\",\n",
    "457:\"Harlow\",\n",
    "458:\"Maldon\",\n",
    "459:\"Rochford\",\n",
    "460:\"Southend-on-Sea\",\n",
    "461:\"Tendring\",\n",
    "462:\"Thurrock\",\n",
    "463:\"Uttlesford\",\n",
    "470:\"Bracknell Forest\",\n",
    "471:\"West Berkshire\",\n",
    "472:\"Reading\",\n",
    "473:\"Slough\",\n",
    "474:\"Windsor and Maidenhead\",\n",
    "475:\"Wokingham\",\n",
    "476:\"Aylesbury Vale\",\n",
    "477:\"South Bucks\",\n",
    "478:\"Chiltern\",\n",
    "479:\"Milton Keynes\",\n",
    "480:\"Wycombe\",\n",
    "481:\"Cherwell\",\n",
    "482:\"Oxford\",\n",
    "483:\"Vale of White Horse\",\n",
    "484:\"South Oxfordshire\",\n",
    "485:\"West Oxfordshire\",\n",
    "490:\"Basingstoke and Deane\",\n",
    "491:\"Eastleigh\",\n",
    "492:\"Fareham\",\n",
    "493:\"Gosport\",\n",
    "494:\"Hart\",\n",
    "495:\"Havant\",\n",
    "496:\"New Forest\",\n",
    "497:\"East Hampshire\",\n",
    "498:\"Portsmouth\",\n",
    "499:\"Rushmoor\",\n",
    "500:\"Southampton \",\n",
    "501:\"Test Valley\",\n",
    "502:\"Winchester\",\n",
    "505:\"Isle of Wight\",\n",
    "510:\"Elmbridge\",\n",
    "511:\"Guildford\",\n",
    "512:\"Mole Valley\",\n",
    "513:\"Reigate and Banstead\",\n",
    "514:\"Runnymede\",\n",
    "515:\"Surrey Heath\",\n",
    "516:\"Tandridge\",\n",
    "517:\"Waverley\",\n",
    "518:\"Woking\",\n",
    "530:\"Ashford\",\n",
    "531:\"Canterbury\",\n",
    "532:\"Dartford\",\n",
    "533:\"Dover\",\n",
    "535:\"Gravesham\",\n",
    "536:\"Maidstone\",\n",
    "538:\"Sevenoaks\",\n",
    "539:\"Shepway\",\n",
    "540:\"Swale\",\n",
    "541:\"Thanet\",\n",
    "542:\"Tonbridge and Malling\",\n",
    "543:\"Tunbridge Wells\",\n",
    "544:\"Medway\",\n",
    "551:\"Eastbourne\",\n",
    "552:\"Hastings\",\n",
    "554:\"Lewes\",\n",
    "555:\"Rother\",\n",
    "556:\"Wealden\",\n",
    "557:\"Adur\",\n",
    "558:\"Arun\",\n",
    "559:\"Chichester\",\n",
    "560:\"Crawley\",\n",
    "562:\"Horsham\",\n",
    "563:\"Mid Sussex\",\n",
    "564:\"Worthing\",\n",
    "565:\"Brighton and Hove\",\n",
    "570:\"City of London\",\n",
    "580:\"East Devon\",\n",
    "581:\"Exeter\",\n",
    "582:\"North Devon\",\n",
    "583:\"Plymouth\",\n",
    "584:\"South Hams\",\n",
    "585:\"Teignbridge\",\n",
    "586:\"Mid Devon\",\n",
    "587:\"Torbay\",\n",
    "588:\"Torridge\",\n",
    "589:\"West Devon\",\n",
    "590:\"Caradon\",\n",
    "591:\"Carrick\",\n",
    "592:\"Kerrier\",\n",
    "593:\"North Cornwall\",\n",
    "594:\"Penwith\",\n",
    "595:\"Restormel\",\n",
    "596:\"Cornwall\",\n",
    "601:\"Bristol, City of\",\n",
    "605:\"North Somerset\",\n",
    "606:\"Mendip\",\n",
    "607:\"Sedgemoor\",\n",
    "608:\"Taunton Deane\",\n",
    "609:\"West Somerset\",\n",
    "610:\"South Somerset\",\n",
    "611:\"Bath and North East Somerset\",\n",
    "612:\"South Gloucestershire\",\n",
    "620:\"Cheltenham\",\n",
    "621:\"Cotswold\",\n",
    "622:\"Forest of Dean\",\n",
    "623:\"Gloucester\",\n",
    "624:\"Stroud\",\n",
    "625:\"Tewkesbury\",\n",
    "630:\"Kennet\",\n",
    "631:\"North Wiltshire\",\n",
    "632:\"Salisbury\",\n",
    "633:\"Swindon\",\n",
    "634:\"West Wiltshire\",\n",
    "635:\"Wiltshire\",\n",
    "640:\"Bournemouth\",\n",
    "641:\"Christchurch\",\n",
    "642:\"North Dorset\",\n",
    "643:\"Poole\",\n",
    "644:\"Purbeck\",\n",
    "645:\"West Dorset\",\n",
    "646:\"Weymouth and Portland\",\n",
    "647:\"East Dorset\",\n",
    "720:\"Isle of Anglesey\",\n",
    "721:\"Conwy\",\n",
    "722:\"Gwynedd\",\n",
    "723:\"Denbighshire\",\n",
    "724:\"Flintshire\",\n",
    "725:\"Wrexham\",\n",
    "730:\"Blaenau Gwent\",\n",
    "731:\"Caerphilly\",\n",
    "732:\"Monmouthshire\",\n",
    "733:\"Newport\",\n",
    "734:\"Torfaen\",\n",
    "740:\"Bridgend\",\n",
    "741:\"Cardiff\",\n",
    "742:\"Merthyr Tydfil\",\n",
    "743:\"Neath Port Talbot\",\n",
    "744:\"Rhondda, Cynon, Taff\",\n",
    "745:\"Swansea\",\n",
    "746:\"The Vale of Glamorgan\",\n",
    "750:\"Ceredigion\",\n",
    "751:\"Carmarthenshire\",\n",
    "752:\"Pembrokeshire\",\n",
    "753:\"Powys\",\n",
    "910:\"Aberdeen City\",\n",
    "911:\"Aberdeenshire\",\n",
    "912:\"Angus\",\n",
    "913:\"Argyll and Bute\",\n",
    "914:\"Scottish Borders\",\n",
    "915:\"Clackmannanshire\",\n",
    "916:\"West Dunbartonshire\",\n",
    "917:\"Dumfries and Galloway\",\n",
    "918:\"Dundee City\",\n",
    "919:\"East Ayrshire\",\n",
    "920:\"East Dunbartonshire\",\n",
    "921:\"East Lothian\",\n",
    "922:\"East Renfrewshire\",\n",
    "923:\"Edinburgh, City of\",\n",
    "924:\"Falkirk\",\n",
    "925:\"Fife\",\n",
    "926:\"Glasgow City\",\n",
    "927:\"Highland\",\n",
    "928:\"Inverclyde\",\n",
    "929:\"Midlothian\",\n",
    "930:\"Moray\",\n",
    "931:\"North Ayrshire\",\n",
    "932:\"North Lanarkshire\",\n",
    "933:\"Orkney Islands\",\n",
    "934:\"Perth and Kinross\",\n",
    "935:\"Renfrewshire\",\n",
    "936:\"Shetland Islands\",\n",
    "937:\"South Ayrshire\",\n",
    "938:\"South Lanarkshire\",\n",
    "939:\"Stirling\",\n",
    "940:\"West Lothian\",\n",
    "941:\"Western Isles\"\n",
    "                             }"
   ]
  },
  {
   "cell_type": "code",
   "execution_count": null,
   "id": "85e2a49e-6d9f-425a-9468-d16306bc55c6",
   "metadata": {},
   "outputs": [],
   "source": [
    "accidentsAndVehicles[\"Local_Authority_(District)\"] = accidentsAndVehicles[\"Local_Authority_(District)\"].map(lambda x: dictdistrict.get(x,x))"
   ]
  },
  {
   "cell_type": "code",
   "execution_count": null,
   "id": "c551072f-41ae-4281-b846-075bf8df91ec",
   "metadata": {},
   "outputs": [],
   "source": [
    "#mapping\n",
    "accidentsAndVehicles[\"1st_Road_Class\"] = accidentsAndVehicles[\"1st_Road_Class\"].map(lambda x: {1:\"Motorway\",\n",
    "2:\"A(M)\",\n",
    "3:\"A\",\n",
    "4:\"B\",\n",
    "5:\"C\",\n",
    "6:\"Unclassified\"\n",
    "}.get(x,x))"
   ]
  },
  {
   "cell_type": "code",
   "execution_count": null,
   "id": "cb98f370-da95-45ed-9fa9-d0fdb52561c1",
   "metadata": {},
   "outputs": [],
   "source": [
    "#mapping\n",
    "accidentsAndVehicles[\"Road_Type\"] = accidentsAndVehicles[\"Road_Type\"].map(lambda x: {\n",
    "1:\"Roundabout\",\n",
    "2:\"One way street\",\n",
    "3:\"Dual carriageway\",\n",
    "6:\"Single carriageway\",\n",
    "7:\"Slip road\",\n",
    "9:\"Unknown\",\n",
    "12:\"One way street/Slip road\",\n",
    "-1:\"Missing data\"\n",
    "}.get(x,x))"
   ]
  },
  {
   "cell_type": "code",
   "execution_count": null,
   "id": "82646da6-011c-42b5-a355-548744b62506",
   "metadata": {},
   "outputs": [],
   "source": [
    "#mapping\n",
    "accidentsAndVehicles[\"Junction_Control\"] = accidentsAndVehicles[\"Junction_Control\"].map(lambda x: {\n",
    "1:\"Roundabout\",\n",
    "2:\"One way street\",\n",
    "3:\"Dual carriageway\",\n",
    "6:\"Single carriageway\",\n",
    "7:\"Slip road\",\n",
    "9:\"Unknown\",\n",
    "12:\"One way street/Slip road\",\n",
    "-1:\"Missing data\"\n",
    "}.get(x,x))"
   ]
  },
  {
   "cell_type": "code",
   "execution_count": null,
   "id": "e447ecc3-92c5-422e-8358-6c1315942ebf",
   "metadata": {},
   "outputs": [],
   "source": []
  },
  {
   "cell_type": "code",
   "execution_count": null,
   "id": "83f9af1f-c12c-44c8-b017-46f4f305d27d",
   "metadata": {},
   "outputs": [],
   "source": []
  },
  {
   "cell_type": "code",
   "execution_count": null,
   "id": "6adc2c94-1f27-4d80-b3b1-d03c41f8682b",
   "metadata": {},
   "outputs": [],
   "source": []
  },
  {
   "cell_type": "code",
   "execution_count": null,
   "id": "68b02733-d4c9-4efc-8258-53cdc0c1af01",
   "metadata": {},
   "outputs": [],
   "source": []
  },
  {
   "cell_type": "code",
   "execution_count": null,
   "id": "68d99713-3fd8-49cd-9c7f-561363e6a8ff",
   "metadata": {},
   "outputs": [],
   "source": []
  },
  {
   "cell_type": "code",
   "execution_count": null,
   "id": "5f2e8304-5752-47a8-b2c5-1a1fc1b89175",
   "metadata": {
    "tags": []
   },
   "outputs": [],
   "source": []
  },
  {
   "cell_type": "code",
   "execution_count": null,
   "id": "4e723a82-5dff-4b74-80b9-3d1fa2bb20e1",
   "metadata": {},
   "outputs": [],
   "source": []
  },
  {
   "cell_type": "code",
   "execution_count": null,
   "id": "5c09f1d5-64dd-403b-9005-f9045fd5b914",
   "metadata": {},
   "outputs": [],
   "source": []
  },
  {
   "cell_type": "code",
   "execution_count": null,
   "id": "1a9b31fc-d0eb-4e21-b2cd-1ab0d51cad6d",
   "metadata": {},
   "outputs": [],
   "source": []
  },
  {
   "cell_type": "code",
   "execution_count": null,
   "id": "12c2e712-1994-468b-a19c-27941ebc6ecc",
   "metadata": {},
   "outputs": [],
   "source": []
  }
 ],
 "metadata": {
  "kernelspec": {
   "display_name": "Python 3",
   "language": "python",
   "name": "python3"
  },
  "language_info": {
   "codemirror_mode": {
    "name": "ipython",
    "version": 3
   },
   "file_extension": ".py",
   "mimetype": "text/x-python",
   "name": "python",
   "nbconvert_exporter": "python",
   "pygments_lexer": "ipython3",
   "version": "3.8.8"
  }
 },
 "nbformat": 4,
 "nbformat_minor": 5
}
