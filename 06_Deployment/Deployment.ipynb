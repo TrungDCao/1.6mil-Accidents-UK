{
 "cells": [
  {
   "cell_type": "code",
   "execution_count": 9,
   "id": "c284b4ff",
   "metadata": {},
   "outputs": [],
   "source": [
    "from sklearn import datasets\n",
    "from sklearn.model_selection import train_test_split\n",
    "from sklearn.linear_model import LinearRegression,LogisticRegression\n",
    "from sklearn.tree import DecisionTreeClassifier\n",
    "from sklearn.svm import SVC\n",
    "from sklearn.naive_bayes import MultinomialNB\n",
    "from sklearn.ensemble import RandomForestClassifier\n",
    "from sklearn.metrics import accuracy_score, f1_score, precision_score, recall_score, classification_report, confusion_matrix, cohen_kappa_score\n",
    "\n",
    "\n",
    "import warnings\n",
    "import pickle\n",
    "import pandas as pd\n",
    "warnings.filterwarnings('ignore')"
   ]
  },
  {
   "cell_type": "code",
   "execution_count": 10,
   "id": "7e75179f",
   "metadata": {},
   "outputs": [],
   "source": [
    "#import dataset created in Data Understanding\n",
    "accidents = pd.read_csv(r\"C:\\Users\\DETCAO03\\V-Case study\\02_Dataset\\Used\\Cleaned_dataset_accidents.csv\",low_memory=False, encoding='utf-8')"
   ]
  },
  {
   "cell_type": "code",
   "execution_count": 11,
   "id": "939fb2e1",
   "metadata": {},
   "outputs": [],
   "source": [
    "#define influencing and response variable\n",
    "X = accidents.drop(\"Accident_Severity\", axis=1)\n",
    "y = accidents[\"Accident_Severity\"]\n",
    "# Split the data into a training and test set.\n",
    "X_train, X_test, y_train, y_test = train_test_split(X, y, test_size=0.30, random_state=0)"
   ]
  },
  {
   "cell_type": "code",
   "execution_count": null,
   "id": "b4d9ec85",
   "metadata": {},
   "outputs": [],
   "source": [
    "#Classifier\n",
    "dt = DecisionTreeClassifier(criterion = 'gini', min_samples_split = 30, splitter='best')\n",
    "lin_reg=LinearRegression()\n",
    "log_reg=LogisticRegression()\n",
    "nb = MultinomialNB()\n",
    "rf = RandomForestClassifier(n_estimators=200)\n",
    "#svc_model=SVC()\n",
    "\n",
    "dt = dt.fit(X_train, y_train)\n",
    "lin_reg=lin_reg.fit(X_train,y_train)\n",
    "log_reg=log_reg.fit(X_train,y_train)\n",
    "nb.fit(X_train, y_train)\n",
    "rf.fit(X_train,y_train)\n",
    "#svc_model=svc_model.fit(x_train,y_train)"
   ]
  },
  {
   "cell_type": "code",
   "execution_count": null,
   "id": "41d928f6",
   "metadata": {},
   "outputs": [],
   "source": [
    "#Random Forest\n",
    "y_pred = rf.predict(X_test)\n",
    "rf.score(X_test, y_test)\n",
    "acc_rf = round(rf.score(X_test, y_test) * 100, 2)\n",
    "sk_report = classification_report(digits=6, y_true=y_test, y_pred=y_pred)\n",
    "print(\"Random Forest\")\n",
    "print(\"Accuracy\", acc_rf)\n",
    "print(\"Cohen Kappa: \"+str(cohen_kappa_score(y_test,y_pred)))\n",
    "print(\"\\n\")\n",
    "print(sk_report)\n",
    "\n",
    "### Confusion Matrix \n",
    "pd.crosstab(y_test, y_pred, rownames=['Actual'], colnames=['Predicted'], margins=True)"
   ]
  },
  {
   "cell_type": "code",
   "execution_count": null,
   "id": "2100910b",
   "metadata": {},
   "outputs": [],
   "source": [
    "plt.figure(figsize=(12,6))\n",
    "feat_importances = pd.Series(rf.feature_importances_, index=accident_ml.columns)\n",
    "feat_importances.nlargest(5).plot(kind='barh')"
   ]
  },
  {
   "cell_type": "code",
   "execution_count": null,
   "id": "0c3a9316",
   "metadata": {},
   "outputs": [],
   "source": [
    "#Naive Bayes\n",
    "nb.fit(X_train, y_train)\n",
    "y_pred = nb.predict(X_test)\n",
    "sk_report = classification_report(digits = 6, y_true = y_test, y_pred = y_pred)\n",
    "print(\"NB\")\n",
    "print(\"Accuracy\", round(accuracy_score(y_test, y_pred) * 100,2))\n",
    "print(\"Cohen Kappa: \"+str(cohen_kappa_score(y_test,y_pred)))\n",
    "print(\"\\n\")\n",
    "print(sk_report)\n",
    "\n",
    "### Confusion Matrix \n",
    "pd.crosstab(y_test, y_pred, rownames=['Actual'], colnames=['Predicted'], margins=True)"
   ]
  },
  {
   "cell_type": "code",
   "execution_count": null,
   "id": "b10db2e7",
   "metadata": {},
   "outputs": [],
   "source": [
    "pickle.dump(lin_reg,open('lin_model.pkl','wb'))\n",
    "pickle.dump(log_reg,open('log_model.pkl','wb'))\n",
    "pickle.dump(dt,open('dt_model.pkl','wb'))\n",
    "pickle.dump(nb,open('nb_model.pkl','wb'))\n",
    "pickle.dump(rf,open('rf_model.pkl','wb'))\n",
    "#pickle.dump(svc_model,open('svc_model.pkl','wb'))"
   ]
  },
  {
   "cell_type": "code",
   "execution_count": null,
   "id": "4421c01b",
   "metadata": {},
   "outputs": [],
   "source": [
    "accidents.head()"
   ]
  },
  {
   "cell_type": "code",
   "execution_count": null,
   "id": "3bec93f5",
   "metadata": {},
   "outputs": [],
   "source": []
  },
  {
   "cell_type": "code",
   "execution_count": null,
   "id": "9aba85a4",
   "metadata": {},
   "outputs": [],
   "source": []
  },
  {
   "cell_type": "code",
   "execution_count": null,
   "id": "3ac018fd",
   "metadata": {},
   "outputs": [],
   "source": []
  },
  {
   "cell_type": "code",
   "execution_count": null,
   "id": "336289a2",
   "metadata": {},
   "outputs": [],
   "source": [
    "from sklearn.model_selection import RandomizedSearchCV\n",
    "param_grid = {\n",
    "    'bootstrap': [True],\n",
    "    'max_depth': [80, 90, 100, 110],\n",
    "    'max_features': [4, 5],\n",
    "    'min_samples_leaf': [5, 10, 15],\n",
    "    'min_samples_split': [8, 10, 12],\n",
    "    'n_estimators': [100, 200, 300]\n",
    "}\n",
    "# Create a based model\n",
    "rf = RandomForestClassifier()\n",
    "# Instantiate the grid search model\n",
    "grid_search = RandomizedSearchCV(estimator = rf, param_distributions = param_grid, \n",
    "                          cv = 3, n_jobs = -1, verbose = 2)\n",
    "\n",
    "grid_search.fit(X_train,y_train)"
   ]
  },
  {
   "cell_type": "code",
   "execution_count": null,
   "id": "d8aa175c",
   "metadata": {},
   "outputs": [],
   "source": [
    "y_pred = grid_search.predict(X_test)\n",
    "acc_r1 = round(grid_search.score(X_test, y_test) * 100, 2)\n",
    "\n",
    "sk_report = classification_report(\n",
    "    digits=6,\n",
    "    y_true=y_test, \n",
    "    y_pred=y_pred)\n",
    "print(\"Cohen Kappa: \"+str(cohen_kappa_score(y_test,y_pred)))\n",
    "print(\"Accuracy\" , acc_rf)\n",
    "print(sk_report)\n",
    "pd.crosstab(y_test, y_pred, rownames=['Actual'], colnames=['Predicted'], margins=True)"
   ]
  },
  {
   "cell_type": "code",
   "execution_count": null,
   "id": "09ac7f12",
   "metadata": {},
   "outputs": [],
   "source": []
  }
 ],
 "metadata": {
  "kernelspec": {
   "display_name": "Python 3",
   "language": "python",
   "name": "python3"
  },
  "language_info": {
   "codemirror_mode": {
    "name": "ipython",
    "version": 3
   },
   "file_extension": ".py",
   "mimetype": "text/x-python",
   "name": "python",
   "nbconvert_exporter": "python",
   "pygments_lexer": "ipython3",
   "version": "3.8.8"
  }
 },
 "nbformat": 4,
 "nbformat_minor": 5
}
