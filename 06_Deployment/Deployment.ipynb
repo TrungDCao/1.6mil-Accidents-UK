{
 "cells": [
  {
   "cell_type": "code",
   "execution_count": 1,
   "id": "c284b4ff",
   "metadata": {},
   "outputs": [],
   "source": [
    "from sklearn import datasets\n",
    "from sklearn.model_selection import train_test_split\n",
    "from sklearn.linear_model import LinearRegression,LogisticRegression\n",
    "from sklearn.tree import DecisionTreeClassifier\n",
    "from sklearn.svm import SVC\n",
    "from sklearn.naive_bayes import MultinomialNB\n",
    "from sklearn.ensemble import RandomForestClassifier\n",
    "\n",
    "import warnings\n",
    "import pickle\n",
    "import pandas as pd\n",
    "warnings.filterwarnings('ignore')"
   ]
  },
  {
   "cell_type": "code",
   "execution_count": 2,
   "id": "26ef25e4",
   "metadata": {},
   "outputs": [],
   "source": [
    "#import dataset created in Data Understanding\n",
    "accidents = pd.read_csv(r\"C:\\Users\\DETCAO03\\V-Case study\\02_Dataset\\Used\\Cleaned_dataset_accidents.csv\",low_memory=False, encoding='utf-8')"
   ]
  },
  {
   "cell_type": "code",
   "execution_count": 3,
   "id": "939fb2e1",
   "metadata": {},
   "outputs": [],
   "source": [
    "#define influencing and response variable\n",
    "X = accidents.drop(\"Accident_Severity\", axis=1)\n",
    "y = accidents[\"Accident_Severity\"]\n",
    "# Split the data into a training and test set.\n",
    "X_train, X_test, y_train, y_test = train_test_split(X, y, test_size=0.30, random_state=0)"
   ]
  },
  {
   "cell_type": "code",
   "execution_count": null,
   "id": "41d928f6",
   "metadata": {},
   "outputs": [],
   "source": [
    "#Classifier\n",
    "dt = DecisionTreeClassifier(criterion = 'gini', min_samples_split = 30, splitter='best')\n",
    "lin_reg=LinearRegression()\n",
    "log_reg=LogisticRegression()\n",
    "nb = MultinomialNB()\n",
    "rf = RandomForestClassifier(n_estimators=200)\n",
    "#svc_model=SVC()\n",
    "\n",
    "dt = dt.fit(X_train, y_train)\n",
    "lin_reg=lin_reg.fit(X_train,y_train)\n",
    "log_reg=log_reg.fit(X_train,y_train)\n",
    "nb.fit(X_train, y_train)\n",
    "rf.fit(X_train,y_train)\n",
    "#svc_model=svc_model.fit(x_train,y_train)\n",
    "\n"
   ]
  },
  {
   "cell_type": "code",
   "execution_count": null,
   "id": "b10db2e7",
   "metadata": {},
   "outputs": [],
   "source": [
    "pickle.dump(lin_reg,open('lin_model.pkl','wb'))\n",
    "pickle.dump(log_reg,open('log_model.pkl','wb'))\n",
    "pickle.dump(dt,open('dt_model.pkl','wb'))\n",
    "pickle.dump(nb,open('nb_model.pkl','wb'))\n",
    "pickle.dump(rf,open('rf_model.pkl','wb'))\n",
    "#pickle.dump(svc_model,open('svc_model.pkl','wb'))"
   ]
  },
  {
   "cell_type": "code",
   "execution_count": null,
   "id": "4421c01b",
   "metadata": {},
   "outputs": [],
   "source": [
    "accidents.head()"
   ]
  },
  {
   "cell_type": "code",
   "execution_count": null,
   "id": "3bec93f5",
   "metadata": {},
   "outputs": [],
   "source": []
  },
  {
   "cell_type": "code",
   "execution_count": null,
   "id": "9aba85a4",
   "metadata": {},
   "outputs": [],
   "source": []
  },
  {
   "cell_type": "code",
   "execution_count": null,
   "id": "3ac018fd",
   "metadata": {},
   "outputs": [],
   "source": []
  }
 ],
 "metadata": {
  "kernelspec": {
   "display_name": "Python 3",
   "language": "python",
   "name": "python3"
  },
  "language_info": {
   "codemirror_mode": {
    "name": "ipython",
    "version": 3
   },
   "file_extension": ".py",
   "mimetype": "text/x-python",
   "name": "python",
   "nbconvert_exporter": "python",
   "pygments_lexer": "ipython3",
   "version": "3.8.8"
  }
 },
 "nbformat": 4,
 "nbformat_minor": 5
}
